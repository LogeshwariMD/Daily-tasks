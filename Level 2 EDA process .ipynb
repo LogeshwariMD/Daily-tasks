{
 "cells": [
  {
   "cell_type": "markdown",
   "id": "e6eb6560-e1a8-469c-93d2-b3dafaacef38",
   "metadata": {},
   "source": [
    "\n",
    "TASK-1 Loading Dataset"
   ]
  },
  {
   "cell_type": "code",
   "execution_count": 113,
   "id": "ea58fd50-a333-4fbb-8f4b-2d05815b04d6",
   "metadata": {},
   "outputs": [],
   "source": [
    "import pandas as pd\n",
    "import seaborn as sns\n",
    "import matplotlib.pyplot as plt"
   ]
  },
  {
   "cell_type": "code",
   "execution_count": 114,
   "id": "cf4dcc71-92eb-4c13-bdfb-35266b82f81d",
   "metadata": {},
   "outputs": [],
   "source": [
    "titanic_df = pd.read_csv('TitanicDataset.csv')"
   ]
  },
  {
   "cell_type": "code",
   "execution_count": 115,
   "id": "c66e7116-f498-479f-b4ee-6eb8e2b24799",
   "metadata": {},
   "outputs": [
    {
     "data": {
      "text/html": [
       "<div>\n",
       "<style scoped>\n",
       "    .dataframe tbody tr th:only-of-type {\n",
       "        vertical-align: middle;\n",
       "    }\n",
       "\n",
       "    .dataframe tbody tr th {\n",
       "        vertical-align: top;\n",
       "    }\n",
       "\n",
       "    .dataframe thead th {\n",
       "        text-align: right;\n",
       "    }\n",
       "</style>\n",
       "<table border=\"1\" class=\"dataframe\">\n",
       "  <thead>\n",
       "    <tr style=\"text-align: right;\">\n",
       "      <th></th>\n",
       "      <th>PassengerId</th>\n",
       "      <th>Survived</th>\n",
       "      <th>Pclass</th>\n",
       "      <th>Name</th>\n",
       "      <th>Sex</th>\n",
       "      <th>Age</th>\n",
       "      <th>SibSp</th>\n",
       "      <th>Parch</th>\n",
       "      <th>Ticket</th>\n",
       "      <th>Fare</th>\n",
       "      <th>Cabin</th>\n",
       "      <th>Embarked</th>\n",
       "    </tr>\n",
       "  </thead>\n",
       "  <tbody>\n",
       "    <tr>\n",
       "      <th>0</th>\n",
       "      <td>1</td>\n",
       "      <td>0</td>\n",
       "      <td>3</td>\n",
       "      <td>Braund, Mr. Owen Harris</td>\n",
       "      <td>male</td>\n",
       "      <td>22.0</td>\n",
       "      <td>1</td>\n",
       "      <td>0</td>\n",
       "      <td>A/5 21171</td>\n",
       "      <td>7.2500</td>\n",
       "      <td>NaN</td>\n",
       "      <td>S</td>\n",
       "    </tr>\n",
       "    <tr>\n",
       "      <th>1</th>\n",
       "      <td>2</td>\n",
       "      <td>1</td>\n",
       "      <td>1</td>\n",
       "      <td>Cumings, Mrs. John Bradley (Florence Briggs Th...</td>\n",
       "      <td>female</td>\n",
       "      <td>38.0</td>\n",
       "      <td>1</td>\n",
       "      <td>0</td>\n",
       "      <td>PC 17599</td>\n",
       "      <td>71.2833</td>\n",
       "      <td>C85</td>\n",
       "      <td>C</td>\n",
       "    </tr>\n",
       "    <tr>\n",
       "      <th>2</th>\n",
       "      <td>3</td>\n",
       "      <td>1</td>\n",
       "      <td>3</td>\n",
       "      <td>Heikkinen, Miss. Laina</td>\n",
       "      <td>female</td>\n",
       "      <td>26.0</td>\n",
       "      <td>0</td>\n",
       "      <td>0</td>\n",
       "      <td>STON/O2. 3101282</td>\n",
       "      <td>7.9250</td>\n",
       "      <td>NaN</td>\n",
       "      <td>S</td>\n",
       "    </tr>\n",
       "    <tr>\n",
       "      <th>3</th>\n",
       "      <td>4</td>\n",
       "      <td>1</td>\n",
       "      <td>1</td>\n",
       "      <td>Futrelle, Mrs. Jacques Heath (Lily May Peel)</td>\n",
       "      <td>female</td>\n",
       "      <td>35.0</td>\n",
       "      <td>1</td>\n",
       "      <td>0</td>\n",
       "      <td>113803</td>\n",
       "      <td>53.1000</td>\n",
       "      <td>C123</td>\n",
       "      <td>S</td>\n",
       "    </tr>\n",
       "    <tr>\n",
       "      <th>4</th>\n",
       "      <td>5</td>\n",
       "      <td>0</td>\n",
       "      <td>3</td>\n",
       "      <td>Allen, Mr. William Henry</td>\n",
       "      <td>male</td>\n",
       "      <td>35.0</td>\n",
       "      <td>0</td>\n",
       "      <td>0</td>\n",
       "      <td>373450</td>\n",
       "      <td>8.0500</td>\n",
       "      <td>NaN</td>\n",
       "      <td>S</td>\n",
       "    </tr>\n",
       "  </tbody>\n",
       "</table>\n",
       "</div>"
      ],
      "text/plain": [
       "   PassengerId  Survived  Pclass  \\\n",
       "0            1         0       3   \n",
       "1            2         1       1   \n",
       "2            3         1       3   \n",
       "3            4         1       1   \n",
       "4            5         0       3   \n",
       "\n",
       "                                                Name     Sex   Age  SibSp  \\\n",
       "0                            Braund, Mr. Owen Harris    male  22.0      1   \n",
       "1  Cumings, Mrs. John Bradley (Florence Briggs Th...  female  38.0      1   \n",
       "2                             Heikkinen, Miss. Laina  female  26.0      0   \n",
       "3       Futrelle, Mrs. Jacques Heath (Lily May Peel)  female  35.0      1   \n",
       "4                           Allen, Mr. William Henry    male  35.0      0   \n",
       "\n",
       "   Parch            Ticket     Fare Cabin Embarked  \n",
       "0      0         A/5 21171   7.2500   NaN        S  \n",
       "1      0          PC 17599  71.2833   C85        C  \n",
       "2      0  STON/O2. 3101282   7.9250   NaN        S  \n",
       "3      0            113803  53.1000  C123        S  \n",
       "4      0            373450   8.0500   NaN        S  "
      ]
     },
     "execution_count": 115,
     "metadata": {},
     "output_type": "execute_result"
    }
   ],
   "source": [
    "titanic_df.head()"
   ]
  },
  {
   "cell_type": "code",
   "execution_count": 116,
   "id": "0ad00fa9-afad-457a-af10-5658db19f197",
   "metadata": {},
   "outputs": [
    {
     "name": "stdout",
     "output_type": "stream",
     "text": [
      "<class 'pandas.core.frame.DataFrame'>\n",
      "RangeIndex: 891 entries, 0 to 890\n",
      "Data columns (total 12 columns):\n",
      " #   Column       Non-Null Count  Dtype  \n",
      "---  ------       --------------  -----  \n",
      " 0   PassengerId  891 non-null    int64  \n",
      " 1   Survived     891 non-null    int64  \n",
      " 2   Pclass       891 non-null    int64  \n",
      " 3   Name         891 non-null    object \n",
      " 4   Sex          891 non-null    object \n",
      " 5   Age          714 non-null    float64\n",
      " 6   SibSp        891 non-null    int64  \n",
      " 7   Parch        891 non-null    int64  \n",
      " 8   Ticket       891 non-null    object \n",
      " 9   Fare         891 non-null    float64\n",
      " 10  Cabin        204 non-null    object \n",
      " 11  Embarked     889 non-null    object \n",
      "dtypes: float64(2), int64(5), object(5)\n",
      "memory usage: 83.7+ KB\n"
     ]
    }
   ],
   "source": [
    "titanic_df.info()"
   ]
  },
  {
   "cell_type": "code",
   "execution_count": 117,
   "id": "aab07b74-6987-4638-8084-6a6e9fb7ff35",
   "metadata": {},
   "outputs": [
    {
     "data": {
      "text/html": [
       "<div>\n",
       "<style scoped>\n",
       "    .dataframe tbody tr th:only-of-type {\n",
       "        vertical-align: middle;\n",
       "    }\n",
       "\n",
       "    .dataframe tbody tr th {\n",
       "        vertical-align: top;\n",
       "    }\n",
       "\n",
       "    .dataframe thead th {\n",
       "        text-align: right;\n",
       "    }\n",
       "</style>\n",
       "<table border=\"1\" class=\"dataframe\">\n",
       "  <thead>\n",
       "    <tr style=\"text-align: right;\">\n",
       "      <th></th>\n",
       "      <th>PassengerId</th>\n",
       "      <th>Survived</th>\n",
       "      <th>Pclass</th>\n",
       "      <th>Age</th>\n",
       "      <th>SibSp</th>\n",
       "      <th>Parch</th>\n",
       "      <th>Fare</th>\n",
       "    </tr>\n",
       "  </thead>\n",
       "  <tbody>\n",
       "    <tr>\n",
       "      <th>count</th>\n",
       "      <td>891.000000</td>\n",
       "      <td>891.000000</td>\n",
       "      <td>891.000000</td>\n",
       "      <td>714.000000</td>\n",
       "      <td>891.000000</td>\n",
       "      <td>891.000000</td>\n",
       "      <td>891.000000</td>\n",
       "    </tr>\n",
       "    <tr>\n",
       "      <th>mean</th>\n",
       "      <td>446.000000</td>\n",
       "      <td>0.383838</td>\n",
       "      <td>2.308642</td>\n",
       "      <td>29.699118</td>\n",
       "      <td>0.523008</td>\n",
       "      <td>0.381594</td>\n",
       "      <td>32.204208</td>\n",
       "    </tr>\n",
       "    <tr>\n",
       "      <th>std</th>\n",
       "      <td>257.353842</td>\n",
       "      <td>0.486592</td>\n",
       "      <td>0.836071</td>\n",
       "      <td>14.526497</td>\n",
       "      <td>1.102743</td>\n",
       "      <td>0.806057</td>\n",
       "      <td>49.693429</td>\n",
       "    </tr>\n",
       "    <tr>\n",
       "      <th>min</th>\n",
       "      <td>1.000000</td>\n",
       "      <td>0.000000</td>\n",
       "      <td>1.000000</td>\n",
       "      <td>0.420000</td>\n",
       "      <td>0.000000</td>\n",
       "      <td>0.000000</td>\n",
       "      <td>0.000000</td>\n",
       "    </tr>\n",
       "    <tr>\n",
       "      <th>25%</th>\n",
       "      <td>223.500000</td>\n",
       "      <td>0.000000</td>\n",
       "      <td>2.000000</td>\n",
       "      <td>20.125000</td>\n",
       "      <td>0.000000</td>\n",
       "      <td>0.000000</td>\n",
       "      <td>7.910400</td>\n",
       "    </tr>\n",
       "    <tr>\n",
       "      <th>50%</th>\n",
       "      <td>446.000000</td>\n",
       "      <td>0.000000</td>\n",
       "      <td>3.000000</td>\n",
       "      <td>28.000000</td>\n",
       "      <td>0.000000</td>\n",
       "      <td>0.000000</td>\n",
       "      <td>14.454200</td>\n",
       "    </tr>\n",
       "    <tr>\n",
       "      <th>75%</th>\n",
       "      <td>668.500000</td>\n",
       "      <td>1.000000</td>\n",
       "      <td>3.000000</td>\n",
       "      <td>38.000000</td>\n",
       "      <td>1.000000</td>\n",
       "      <td>0.000000</td>\n",
       "      <td>31.000000</td>\n",
       "    </tr>\n",
       "    <tr>\n",
       "      <th>max</th>\n",
       "      <td>891.000000</td>\n",
       "      <td>1.000000</td>\n",
       "      <td>3.000000</td>\n",
       "      <td>80.000000</td>\n",
       "      <td>8.000000</td>\n",
       "      <td>6.000000</td>\n",
       "      <td>512.329200</td>\n",
       "    </tr>\n",
       "  </tbody>\n",
       "</table>\n",
       "</div>"
      ],
      "text/plain": [
       "       PassengerId    Survived      Pclass         Age       SibSp  \\\n",
       "count   891.000000  891.000000  891.000000  714.000000  891.000000   \n",
       "mean    446.000000    0.383838    2.308642   29.699118    0.523008   \n",
       "std     257.353842    0.486592    0.836071   14.526497    1.102743   \n",
       "min       1.000000    0.000000    1.000000    0.420000    0.000000   \n",
       "25%     223.500000    0.000000    2.000000   20.125000    0.000000   \n",
       "50%     446.000000    0.000000    3.000000   28.000000    0.000000   \n",
       "75%     668.500000    1.000000    3.000000   38.000000    1.000000   \n",
       "max     891.000000    1.000000    3.000000   80.000000    8.000000   \n",
       "\n",
       "            Parch        Fare  \n",
       "count  891.000000  891.000000  \n",
       "mean     0.381594   32.204208  \n",
       "std      0.806057   49.693429  \n",
       "min      0.000000    0.000000  \n",
       "25%      0.000000    7.910400  \n",
       "50%      0.000000   14.454200  \n",
       "75%      0.000000   31.000000  \n",
       "max      6.000000  512.329200  "
      ]
     },
     "execution_count": 117,
     "metadata": {},
     "output_type": "execute_result"
    }
   ],
   "source": [
    "titanic_df.describe()\n"
   ]
  },
  {
   "cell_type": "markdown",
   "id": "85fc9ab6-3d23-4e47-8ffd-10a13c8b0d92",
   "metadata": {},
   "source": [
    " TASK-2 Missing Values"
   ]
  },
  {
   "cell_type": "code",
   "execution_count": 118,
   "id": "dd6f4e5e-0ceb-44c8-8485-a101b43f7441",
   "metadata": {},
   "outputs": [
    {
     "data": {
      "text/plain": [
       "PassengerId      0\n",
       "Survived         0\n",
       "Pclass           0\n",
       "Name             0\n",
       "Sex              0\n",
       "Age            177\n",
       "SibSp            0\n",
       "Parch            0\n",
       "Ticket           0\n",
       "Fare             0\n",
       "Cabin          687\n",
       "Embarked         2\n",
       "dtype: int64"
      ]
     },
     "execution_count": 118,
     "metadata": {},
     "output_type": "execute_result"
    }
   ],
   "source": [
    "titanic_df.isnull().sum()"
   ]
  },
  {
   "cell_type": "code",
   "execution_count": 119,
   "id": "e39117e3-5791-4d18-8f53-cd7b3f25f8c7",
   "metadata": {},
   "outputs": [
    {
     "data": {
      "text/plain": [
       "<function matplotlib.pyplot.show(close=None, block=None)>"
      ]
     },
     "execution_count": 119,
     "metadata": {},
     "output_type": "execute_result"
    },
    {
     "data": {
      "image/png": "[encoded data removed]",
      "text/plain": [
       "<Figure size 640x480 with 1 Axes>"
      ]
     },
     "metadata": {},
     "output_type": "display_data"
    }
   ],
   "source": [
    "import matplotlib.pyplot as plt\n",
    "sns.heatmap(titanic_df.isnull(), cbar=False)\n",
    "plt.title(\"missing values heatmap\")\n",
    "plt.show"
   ]
  },
  {
   "cell_type": "code",
   "execution_count": 120,
   "id": "0cb8bfbb-a0b2-4526-b7f6-da1d6d4c7567",
   "metadata": {},
   "outputs": [
    {
     "data": {
      "text/plain": [
       "Index(['PassengerId', 'Survived', 'Pclass', 'Name', 'Sex', 'Age', 'SibSp',\n",
       "       'Parch', 'Ticket', 'Fare', 'Cabin', 'Embarked'],\n",
       "      dtype='object')"
      ]
     },
     "execution_count": 120,
     "metadata": {},
     "output_type": "execute_result"
    }
   ],
   "source": [
    "titanic_df.columns"
   ]
  },
  {
   "cell_type": "code",
   "execution_count": 121,
   "id": "fe3b8bea-3755-413f-a008-d7b468ffe39c",
   "metadata": {},
   "outputs": [
    {
     "name": "stdout",
     "output_type": "stream",
     "text": [
      "(183, 12)\n"
     ]
    }
   ],
   "source": [
    "titanic_df1 = titanic_df.dropna()\n",
    "print (titanic_cleaned.shape)"
   ]
  },
  {
   "cell_type": "code",
   "execution_count": 122,
   "id": "6c05869d-803c-4374-ad26-d04ce06ee2b0",
   "metadata": {},
   "outputs": [
    {
     "name": "stdout",
     "output_type": "stream",
     "text": [
      "0\n",
      "0\n",
      "Index(['PassengerId', 'Survived', 'Pclass', 'Name', 'Sex', 'Age', 'SibSp',\n",
      "       'Parch', 'Ticket', 'Fare', 'Embarked'],\n",
      "      dtype='object')\n"
     ]
    },
    {
     "name": "stderr",
     "output_type": "stream",
     "text": [
      "C:\\Users\\loges\\AppData\\Local\\Temp\\ipykernel_18792\\2163007720.py:1: FutureWarning: A value is trying to be set on a copy of a DataFrame or Series through chained assignment using an inplace method.\n",
      "The behavior will change in pandas 3.0. This inplace method will never work because the intermediate object on which we are setting values always behaves as a copy.\n",
      "\n",
      "For example, when doing 'df[col].method(value, inplace=True)', try using 'df.method({col: value}, inplace=True)' or df[col] = df[col].method(value) instead, to perform the operation inplace on the original object.\n",
      "\n",
      "\n",
      "  titanic_df['Age'].fillna(titanic_df['Age'].median(), inplace=True)\n",
      "C:\\Users\\loges\\AppData\\Local\\Temp\\ipykernel_18792\\2163007720.py:2: FutureWarning: A value is trying to be set on a copy of a DataFrame or Series through chained assignment using an inplace method.\n",
      "The behavior will change in pandas 3.0. This inplace method will never work because the intermediate object on which we are setting values always behaves as a copy.\n",
      "\n",
      "For example, when doing 'df[col].method(value, inplace=True)', try using 'df.method({col: value}, inplace=True)' or df[col] = df[col].method(value) instead, to perform the operation inplace on the original object.\n",
      "\n",
      "\n",
      "  titanic_df['Embarked'].fillna(titanic_df['Embarked'].mode()[0], inplace=True)\n"
     ]
    }
   ],
   "source": [
    "titanic_df['Age'].fillna(titanic_df['Age'].median(), inplace=True)\n",
    "titanic_df['Embarked'].fillna(titanic_df['Embarked'].mode()[0], inplace=True)\n",
    "titanic_df.drop('Cabin', axis=1, inplace=True)\n",
    "print(titanic_df['Age'].isnull().sum())\n",
    "print(titanic_df['Embarked'].isnull().sum())\n",
    "print(titanic_df.columns)"
   ]
  },
  {
   "cell_type": "code",
   "execution_count": 123,
   "id": "5b830f01-1ff8-4398-8a61-287b19ad1016",
   "metadata": {},
   "outputs": [
    {
     "data": {
      "text/plain": [
       "PassengerId    0\n",
       "Survived       0\n",
       "Pclass         0\n",
       "Name           0\n",
       "Sex            0\n",
       "Age            0\n",
       "SibSp          0\n",
       "Parch          0\n",
       "Ticket         0\n",
       "Fare           0\n",
       "Embarked       0\n",
       "dtype: int64"
      ]
     },
     "execution_count": 123,
     "metadata": {},
     "output_type": "execute_result"
    }
   ],
   "source": [
    "titanic_df.isnull().sum()"
   ]
  },
  {
   "cell_type": "markdown",
   "id": "f6623004-aa5b-41ec-9780-ceb35df6e427",
   "metadata": {},
   "source": [
    "TASK-3 Correlation Matrix"
   ]
  },
  {
   "cell_type": "code",
   "execution_count": 124,
   "id": "f572ee63-26d1-41c5-a135-b6ae73415b0c",
   "metadata": {},
   "outputs": [
    {
     "name": "stdout",
     "output_type": "stream",
     "text": [
      "             PassengerId  Survived    Pclass       Age     SibSp     Parch  \\\n",
      "PassengerId     1.000000 -0.005007 -0.035144  0.034212 -0.057527 -0.001652   \n",
      "Survived       -0.005007  1.000000 -0.338481 -0.064910 -0.035322  0.081629   \n",
      "Pclass         -0.035144 -0.338481  1.000000 -0.339898  0.083081  0.018443   \n",
      "Age             0.034212 -0.064910 -0.339898  1.000000 -0.233296 -0.172482   \n",
      "SibSp          -0.057527 -0.035322  0.083081 -0.233296  1.000000  0.414838   \n",
      "Parch          -0.001652  0.081629  0.018443 -0.172482  0.414838  1.000000   \n",
      "Fare            0.012658  0.257307 -0.549500  0.096688  0.159651  0.216225   \n",
      "\n",
      "                 Fare  \n",
      "PassengerId  0.012658  \n",
      "Survived     0.257307  \n",
      "Pclass      -0.549500  \n",
      "Age          0.096688  \n",
      "SibSp        0.159651  \n",
      "Parch        0.216225  \n",
      "Fare         1.000000  \n"
     ]
    }
   ],
   "source": [
    "import matplotlib.pyplot as plt\n",
    "correlation_matrix = titanic_df.corr(numeric_only=True)\n",
    "print(correlation_matrix)"
   ]
  },
  {
   "cell_type": "code",
   "execution_count": 125,
   "id": "38bb8a79-a573-4957-a5e1-3ff0b4440f7d",
   "metadata": {},
   "outputs": [
    {
     "data": {
      "image/png": "[encoded data removed]",
      "text/plain": [
       "<Figure size 800x600 with 2 Axes>"
      ]
     },
     "metadata": {},
     "output_type": "display_data"
    }
   ],
   "source": [
    "plt.figure(figsize=(8, 6))\n",
    "sns.heatmap(correlation_matrix,annot=True, cmap=\"coolwarm\", fmt=\".2f\", linewidths=0.5)\n",
    "plt.title(\"Correlation Matrix of Titanic Dataset\")\n",
    "plt.show()"
   ]
  },
  {
   "cell_type": "markdown",
   "id": "94c09292-f7e5-44c1-b7ad-6102e29c8661",
   "metadata": {},
   "source": [
    "TASK-4 Feature Engineering\n"
   ]
  },
  {
   "cell_type": "code",
   "execution_count": 126,
   "id": "4ea83a79-b8da-4820-97ff-c9bcdc2eaeff",
   "metadata": {},
   "outputs": [
    {
     "name": "stdout",
     "output_type": "stream",
     "text": [
      "      Sex Embarked\n",
      "0    male        s\n",
      "1  female        c\n",
      "2  female        s\n",
      "3  female        s\n",
      "4    male        s\n"
     ]
    }
   ],
   "source": [
    "def clean_categorial_data(df):\n",
    "    df['Sex'] = df['Sex'].str.lower()\n",
    "    df['Embarked'] = df['Embarked'].str.lower()\n",
    "    return df\n",
    "titanic_df = clean_categorial_data(titanic_df)\n",
    "print(titanic_df[['Sex', 'Embarked']].head())"
   ]
  },
  {
   "cell_type": "code",
   "execution_count": 127,
   "id": "caf37b27-c252-421f-b937-f433e2aae8c2",
   "metadata": {},
   "outputs": [
    {
     "name": "stdout",
     "output_type": "stream",
     "text": [
      "   SibSp  Parch  family_size\n",
      "0      1      0            2\n",
      "1      1      0            2\n",
      "2      0      0            1\n",
      "3      1      0            2\n",
      "4      0      0            1\n"
     ]
    }
   ],
   "source": [
    "def add_family_size(df):\n",
    "    df['family_size'] = df['SibSp'] + df['Parch'] + 1\n",
    "    return df\n",
    "titanic_df = add_family_size(titanic_df)\n",
    "print(titanic_df[['SibSp', 'Parch', 'family_size']].head())"
   ]
  },
  {
   "cell_type": "code",
   "execution_count": 128,
   "id": "8f5e0ba9-eef3-4649-8dac-a2c69101e3cb",
   "metadata": {},
   "outputs": [
    {
     "name": "stdout",
     "output_type": "stream",
     "text": [
      "                                                Name  \\\n",
      "0                            Braund, Mr. Owen Harris   \n",
      "1  Cumings, Mrs. John Bradley (Florence Briggs Th...   \n",
      "2                             Heikkinen, Miss. Laina   \n",
      "3       Futrelle, Mrs. Jacques Heath (Lily May Peel)   \n",
      "4                           Allen, Mr. William Henry   \n",
      "\n",
      "                                               title  \n",
      "0                            Braund, mr. owen harris  \n",
      "1  Cumings, mrs. john bradley (florence briggs th...  \n",
      "2                             Heikkinen, miss. laina  \n",
      "3       Futrelle, mrs. jacques heath (lily may peel)  \n",
      "4                           Allen, mr. william henry  \n"
     ]
    }
   ],
   "source": [
    "import re\n",
    "def extract_title(df):\n",
    "    df['title'] = df['Name'].apply(lambda x:x.capitalize())\n",
    "    return df\n",
    "titanic_df = extract_title(titanic_df)\n",
    "print(titanic_df[['Name', 'title']].head())"
   ]
  },
  {
   "cell_type": "code",
   "execution_count": 129,
   "id": "72cf0074-4344-4e9d-a231-221fa6369307",
   "metadata": {},
   "outputs": [
    {
     "name": "stdout",
     "output_type": "stream",
     "text": [
      "      Fare  family_size  fare_per_person\n",
      "0   7.2500            2          3.62500\n",
      "1  71.2833            2         35.64165\n",
      "2   7.9250            1          7.92500\n",
      "3  53.1000            2         26.55000\n",
      "4   8.0500            1          8.05000\n"
     ]
    }
   ],
   "source": [
    "def add_fare_per_person(df):\n",
    "    df['fare_per_person'] = df['Fare'] / df['family_size']\n",
    "    return df\n",
    "titanic_df = add_fare_per_person(titanic_df)\n",
    "print(titanic_df[['Fare', 'family_size', 'fare_per_person']].head())\n"
   ]
  },
  {
   "cell_type": "code",
   "execution_count": 130,
   "id": "a0b44ada-1a01-46d0-bab6-173a07ba76ad",
   "metadata": {},
   "outputs": [
    {
     "name": "stdout",
     "output_type": "stream",
     "text": [
      "   PassengerId  Survived  Pclass  \\\n",
      "0            1         0       3   \n",
      "1            2         1       1   \n",
      "2            3         1       3   \n",
      "3            4         1       1   \n",
      "4            5         0       3   \n",
      "\n",
      "                                                Name     Sex   Age  SibSp  \\\n",
      "0                            Braund, Mr. Owen Harris    male  22.0      1   \n",
      "1  Cumings, Mrs. John Bradley (Florence Briggs Th...  female  38.0      1   \n",
      "2                             Heikkinen, Miss. Laina  female  26.0      0   \n",
      "3       Futrelle, Mrs. Jacques Heath (Lily May Peel)  female  35.0      1   \n",
      "4                           Allen, Mr. William Henry    male  35.0      0   \n",
      "\n",
      "   Parch            Ticket     Fare Embarked  family_size  \\\n",
      "0      0         A/5 21171   7.2500        s            2   \n",
      "1      0          PC 17599  71.2833        c            2   \n",
      "2      0  STON/O2. 3101282   7.9250        s            1   \n",
      "3      0            113803  53.1000        s            2   \n",
      "4      0            373450   8.0500        s            1   \n",
      "\n",
      "                                               title  fare_per_person  \n",
      "0                            Braund, mr. owen harris          3.62500  \n",
      "1  Cumings, mrs. john bradley (florence briggs th...         35.64165  \n",
      "2                             Heikkinen, miss. laina          7.92500  \n",
      "3       Futrelle, mrs. jacques heath (lily may peel)         26.55000  \n",
      "4                           Allen, mr. william henry          8.05000  \n"
     ]
    }
   ],
   "source": [
    "def clean_and_engineer_features(df):\n",
    "    df = clean_categorial_data(df)\n",
    "    df = add_family_size(df)\n",
    "    df = extract_title(df)\n",
    "    df = add_fare_per_person(df)\n",
    "    return df\n",
    "titanic_df = clean_and_engineer_features(titanic_df)\n",
    "print(titanic_df.head())\n"
   ]
  },
  {
   "cell_type": "code",
   "execution_count": 131,
   "id": "df16b06b-eca3-4611-9d65-a8b9509b1916",
   "metadata": {},
   "outputs": [
    {
     "name": "stdout",
     "output_type": "stream",
     "text": [
      "Missing values after processing:\n",
      " PassengerId        0\n",
      "Survived           0\n",
      "Pclass             0\n",
      "Name               0\n",
      "Sex                0\n",
      "Age                0\n",
      "SibSp              0\n",
      "Parch              0\n",
      "Ticket             0\n",
      "Fare               0\n",
      "Embarked           0\n",
      "family_size        0\n",
      "title              0\n",
      "fare_per_person    0\n",
      "dtype: int64\n",
      "Dataset columns:\n",
      " Index(['PassengerId', 'Survived', 'Pclass', 'Name', 'Sex', 'Age', 'SibSp',\n",
      "       'Parch', 'Ticket', 'Fare', 'Embarked', 'family_size', 'title',\n",
      "       'fare_per_person'],\n",
      "      dtype='object')\n"
     ]
    }
   ],
   "source": [
    "print(\"Missing values after processing:\\n\", titanic_df.isnull().sum())\n",
    "print(\"Dataset columns:\\n\", titanic_df.columns)\n",
    "\n",
    "\n"
   ]
  },
  {
   "cell_type": "markdown",
   "id": "58f468d4-3492-4e51-abb0-2cfa3c9fabd9",
   "metadata": {},
   "source": [
    "TASK-5 Pre-modelling/Pre-processing the data"
   ]
  },
  {
   "cell_type": "code",
   "execution_count": 132,
   "id": "1adc685c-868a-4f46-b38b-7d6d477a0ad5",
   "metadata": {},
   "outputs": [
    {
     "name": "stdout",
     "output_type": "stream",
     "text": [
      "Defaulting to user installation because normal site-packages is not writeable\n",
      "Requirement already satisfied: scikit-learn in c:\\programdata\\anaconda3\\lib\\site-packages (1.4.2)\n",
      "Requirement already satisfied: numpy>=1.19.5 in c:\\programdata\\anaconda3\\lib\\site-packages (from scikit-learn) (1.26.4)\n",
      "Requirement already satisfied: scipy>=1.6.0 in c:\\programdata\\anaconda3\\lib\\site-packages (from scikit-learn) (1.13.1)\n",
      "Requirement already satisfied: joblib>=1.2.0 in c:\\programdata\\anaconda3\\lib\\site-packages (from scikit-learn) (1.4.2)\n",
      "Requirement already satisfied: threadpoolctl>=2.0.0 in c:\\programdata\\anaconda3\\lib\\site-packages (from scikit-learn) (2.2.0)\n"
     ]
    }
   ],
   "source": [
    "!pip install scikit-learn"
   ]
  },
  {
   "cell_type": "code",
   "execution_count": 133,
   "id": "61619158-ad21-4c7f-b626-08575b8a7fcd",
   "metadata": {},
   "outputs": [
    {
     "name": "stdout",
     "output_type": "stream",
     "text": [
      "   PassengerId  Survived  Pclass  \\\n",
      "0    -1.000000      -1.0     1.0   \n",
      "1    -0.997753       1.0    -1.0   \n",
      "2    -0.995506       1.0     1.0   \n",
      "3    -0.993258       1.0    -1.0   \n",
      "4    -0.991011      -1.0     1.0   \n",
      "\n",
      "                                                Name     Sex       Age  SibSp  \\\n",
      "0                            Braund, Mr. Owen Harris    male -0.457653  -0.75   \n",
      "1  Cumings, Mrs. John Bradley (Florence Briggs Th...  female -0.055542  -0.75   \n",
      "2                             Heikkinen, Miss. Laina  female -0.357125  -1.00   \n",
      "3       Futrelle, Mrs. Jacques Heath (Lily May Peel)  female -0.130937  -0.75   \n",
      "4                           Allen, Mr. William Henry    male -0.130937  -1.00   \n",
      "\n",
      "   Parch            Ticket      Fare Embarked  family_size  \\\n",
      "0   -1.0         A/5 21171 -0.971698        s         -0.8   \n",
      "1   -1.0          PC 17599 -0.721729        c         -0.8   \n",
      "2   -1.0  STON/O2. 3101282 -0.969063        s         -1.0   \n",
      "3   -1.0            113803 -0.792711        s         -0.8   \n",
      "4   -1.0            373450 -0.968575        s         -1.0   \n",
      "\n",
      "                                               title  fare_per_person  \n",
      "0                            Braund, mr. owen harris        -0.985849  \n",
      "1  Cumings, mrs. john bradley (florence briggs th...        -0.860864  \n",
      "2                             Heikkinen, miss. laina        -0.969063  \n",
      "3       Futrelle, mrs. jacques heath (lily may peel)        -0.896356  \n",
      "4                           Allen, mr. william henry        -0.968575  \n"
     ]
    }
   ],
   "source": [
    "\n",
    "from sklearn.preprocessing import MinMaxScaler\n",
    "def scale_features(df):\n",
    "    numeric_cols = df.select_dtypes(include='number').columns\n",
    "    scaler = MinMaxScaler(feature_range=(-1, 1))\n",
    "    df[numeric_cols] = scaler.fit_transform(df[numeric_cols])\n",
    "    return df\n",
    "titanic_df = scale_features(titanic_df)\n",
    "print(titanic_df.head())\n",
    "    \n",
    "    "
   ]
  },
  {
   "cell_type": "code",
   "execution_count": 134,
   "id": "b192fa17-ff02-4a01-bc93-5406cc9bb22d",
   "metadata": {},
   "outputs": [
    {
     "name": "stdout",
     "output_type": "stream",
     "text": [
      "                 min  max\n",
      "PassengerId     -1.0  1.0\n",
      "Survived        -1.0  1.0\n",
      "Pclass          -1.0  1.0\n",
      "Age             -1.0  1.0\n",
      "SibSp           -1.0  1.0\n",
      "Parch           -1.0  1.0\n",
      "Fare            -1.0  1.0\n",
      "family_size     -1.0  1.0\n",
      "fare_per_person -1.0  1.0\n"
     ]
    }
   ],
   "source": [
    "\n",
    "print(titanic_df.describe().T[['min', 'max']])\n"
   ]
  },
  {
   "cell_type": "markdown",
   "id": "bc041523-1be6-4671-a886-2e28ea6fc90c",
   "metadata": {},
   "source": [
    "TASK-6 Hypothesis Test"
   ]
  },
  {
   "cell_type": "code",
   "execution_count": 135,
   "id": "eabf2f9f-4912-40c9-b788-e37780371ba9",
   "metadata": {},
   "outputs": [
    {
     "name": "stdout",
     "output_type": "stream",
     "text": [
      "Contingency Table (Gender vs. Survival):\n",
      " Survived  -1.0   1.0\n",
      "Sex                 \n",
      "female      81   233\n",
      "male       468   109\n",
      "\n",
      "Chi-Square Statistic: 260.71702016732104\n",
      "P-value: 1.1973570627755645e-58\n",
      "Degrees of Freedom: 1\n",
      "Expected Frequencies:\n",
      " [[193.47474747 120.52525253]\n",
      " [355.52525253 221.47474747]]\n"
     ]
    }
   ],
   "source": [
    "from scipy.stats import chi2_contingency\n",
    "contingency_table = pd.crosstab(titanic_df['Sex'], titanic_df['Survived'])\n",
    "chi2, p_value, dof, expected = chi2_contingency(contingency_table)\n",
    "print(\"Contingency Table (Gender vs. Survival):\\n\", contingency_table)\n",
    "print(f\"\\nChi-Square Statistic: {chi2}\")\n",
    "print(f\"P-value: {p_value}\")\n",
    "print(f\"Degrees of Freedom: {dof}\")\n",
    "print(\"Expected Frequencies:\\n\", expected)\n",
    "\n"
   ]
  },
  {
   "cell_type": "code",
   "execution_count": null,
   "id": "f43c4574-bd3e-44bf-a44e-083ab292b9a6",
   "metadata": {},
   "outputs": [],
   "source": []
  },
  {
   "cell_type": "code",
   "execution_count": null,
   "id": "44185b4b-22ee-4c84-a02f-df423f663596",
   "metadata": {},
   "outputs": [],
   "source": []
  }
 ],
 "metadata": {
  "kernelspec": {
   "display_name": "Python 3 (ipykernel)",
   "language": "python",
   "name": "python3"
  },
  "language_info": {
   "codemirror_mode": {
    "name": "ipython",
    "version": 3
   },
   "file_extension": ".py",
   "mimetype": "text/x-python",
   "name": "python",
   "nbconvert_exporter": "python",
   "pygments_lexer": "ipython3",
   "version": "3.12.4"
  }
 },
 "nbformat": 4,
 "nbformat_minor": 5
}
